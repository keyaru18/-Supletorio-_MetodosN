{
 "cells": [
  {
   "cell_type": "code",
   "execution_count": 14,
   "metadata": {},
   "outputs": [],
   "source": [
    "# Derivadas parciales para regresión lineal\n",
    "# ####################################################################\n",
    "def der_parcial_1(xs: list, ys: list) -> tuple[float, float, float]:\n",
    "    \"\"\"Retorna los coeficientes de la ecuación de la derivada parcial con respecto al parámetro 1 al reemplazar los valores ``xs`` y ``ys``. La ecuación es de la forma:\n",
    "    c_1 * a_1 + c_0 * a_0 = c_ind\n",
    "\n",
    "\n",
    "    ## Parameters\n",
    "\n",
    "    ``xs``: lista de valores de x.\n",
    "\n",
    "    ``ys``: lista de valores de y.\n",
    "\n",
    "    ## Return\n",
    "\n",
    "    ``c_1``: coeficiente del parámetro 1.\n",
    "\n",
    "    ``c_0``: coeficiente del parámetro 0.\n",
    "\n",
    "    ``c_ind``: coeficiente del término independiente.\n",
    "\n",
    "    \"\"\"\n",
    "\n",
    "    # coeficiente del término independiente\n",
    "    c_ind = sum(ys)\n",
    "\n",
    "    # coeficiente del parámetro 1\n",
    "    c_1 = sum(xs)\n",
    "\n",
    "    # coeficiente del parámetro 0\n",
    "    c_0 = len(xs)\n",
    "\n",
    "    return (c_1, c_0, c_ind)\n",
    "\n",
    "\n",
    "def der_parcial_0(xs: list, ys: list) -> tuple[float, float, float]:\n",
    "    \"\"\"Retorna los coeficientes de la ecuación de la derivada parcial con respecto al parámetro 0 al reemplazar los valores ``xs`` y ``ys``. La ecuación es de la forma:\n",
    "    c_1 * a_1 + c_0 * a_0 = c_ind\n",
    "\n",
    "\n",
    "    ## Parameters\n",
    "\n",
    "    ``xs``: lista de valores de x.\n",
    "\n",
    "    ``ys``: lista de valores de y.\n",
    "\n",
    "    ## Return\n",
    "\n",
    "    ``c_1``: coeficiente del parámetro 1.\n",
    "\n",
    "    ``c_0``: coeficiente del parámetro 0.\n",
    "\n",
    "    ``c_ind``: coeficiente del término independiente.\n",
    "\n",
    "    \"\"\"\n",
    "    c_1 = 0\n",
    "    c_0 = 0\n",
    "    c_ind = 0\n",
    "    for xi, yi in zip(xs, ys):\n",
    "        # coeficiente del término independiente\n",
    "        c_ind += xi * yi\n",
    "\n",
    "        # coeficiente del parámetro 1\n",
    "        c_1 += xi * xi\n",
    "\n",
    "        # coeficiente del parámetro 0\n",
    "        c_0 += xi\n",
    "\n",
    "    return (c_1, c_0, c_ind)"
   ]
  },
  {
   "cell_type": "code",
   "execution_count": 15,
   "metadata": {},
   "outputs": [],
   "source": [
    "\n",
    "# Conjunto de datos\n",
    "datos = [(-7.0, 18.295), (-6.96, 18.924), (-6.92, 17.099), (-6.879, 19.592), (-6.839, 18.568), (-6.799, 16.477), (-6.759, 18.783), (-6.719, 18.082), (-6.678, 18.099),\n",
    "        (-6.638, 16.696), (-6.598, 16.457), (-6.558, 15.253), (-6.518, 18.337), (-6.477, 17.789), (-6.437, 17.014), (-6.397, 16.393), (-6.357, 16.286), (-6.317, 14.595),\n",
    "        (-6.276, 15.176), (-6.236, 14.259), (-6.196, 16.252), (-6.156, 14.637), (-6.116, 15.447), (-6.075, 15.911), (-6.035, 13.627), (-5.995, 14.585), (-5.955, 12.948),\n",
    "        (-5.915, 14.402), (-5.874, 14.563), (-5.834, 16.175), (-5.794, 14.377), (-5.754, 14.59), (-5.714, 14.161), (-5.673, 13.703), (-5.633, 13.377), (-5.593, 14.239),\n",
    "        (-5.553, 13.006), (-5.513, 12.95), (-5.472, 13.591), (-5.432, 13.893), (-5.392, 11.532), (-5.352, 14.877), (-5.312, 13.337), (-5.271, 13.795), (-5.231, 12.723),\n",
    "        (-5.191, 13.756), (-5.151, 11.947), (-5.111, 13.191), (-5.07, 12.461), (-5.03, 13.801), (-4.99, 13.337), (-4.95, 13.225), (-4.91, 13.312), (-4.869, 13.716),\n",
    "        (-4.829, 13.061), (-4.789, 12.932), (-4.749, 13.159), (-4.709, 12.647), (-4.668, 12.159), (-4.628, 12.693), (-4.588, 11.234), (-4.548, 13.657), (-4.508, 12.131),\n",
    "        (-4.467, 13.116), (-4.427, 11.28), (-4.387, 13.204), (-4.347, 12.681), (-4.307, 12.355), (-4.266, 12.447), (-4.226, 14.183), (-4.186, 14.629), (-4.146, 13.632),\n",
    "        (-4.106, 12.527), (-4.065, 12.806), (-4.025, 12.193), (-3.985, 13.291), (-3.945, 13.825), (-3.905, 13.299), (-3.864, 14.618), (-3.824, 14.539), (-3.784, 12.474),\n",
    "        (-3.744, 12.456), (-3.704, 14.371), (-3.663, 13.912), (-3.623, 12.522), (-3.583, 14.085), (-3.543, 12.861), (-3.503, 14.924), (-3.462, 14.87), (-3.422, 13.489),\n",
    "        (-3.382, 15.417), (-3.342, 15.143), (-3.302, 14.011), (-3.261, 14.199), (-3.221, 14.469), (-3.181, 13.842), (-3.141, 13.583), (-3.101, 14.657), (-3.06, 14.469),\n",
    "        (-3.02, 14.213), (-2.98, 16.496), (-2.94, 14.685), (-2.899, 16.626), (-2.859, 13.83), (-2.819, 15.049), (-2.779, 14.276), (-2.739, 16.734), (-2.698, 18.072),\n",
    "        (-2.658, 16.275), (-2.618, 16.2), (-2.578, 16.4), (-2.538, 17.622), (-2.497, 17.129), (-2.457, 17.629), (-2.417, 15.697), (-2.377, 16.156), (-2.337, 17.454),\n",
    "        (-2.296, 17.942), (-2.256, 15.999), (-2.216, 17.687), (-2.176, 17.084), (-2.136, 18.711), (-2.095, 14.939), (-2.055, 20.116), (-2.015, 18.477), (-1.975, 16.642),\n",
    "        (-1.935, 19.969), (-1.894, 19.283), (-1.854, 20.629), (-1.814, 17.274), (-1.774, 18.177), (-1.734, 20.677), (-1.693, 22.297), (-1.653, 24.108), (-1.613, 21.001),\n",
    "        (-1.573, 22.261), (-1.533, 19.508), (-1.492, 19.727), (-1.452, 23.987), (-1.412, 22.089), (-1.372, 24.427), (-1.332, 19.869), (-1.291, 24.149), (-1.251, 23.872),\n",
    "        (-1.211, 26.017), (-1.171, 21.804), (-1.131, 23.37), (-1.09, 25.047), (-1.05, 23.894), (-1.01, 24.512), (-0.97, 27.049), (-0.93, 27.149), (-0.889, 26.742),\n",
    "        (-0.849, 23.91), (-0.809, 24.265), (-0.769, 27.464), (-0.729, 23.775), (-0.688, 27.62), (-0.648, 28.504), (-0.608, 28.295), (-0.568, 28.096), (-0.528, 31.528),\n",
    "        (-0.487, 31.188), (-0.447, 29.722), (-0.407, 29.521), (-0.367, 31.992), (-0.327, 28.991), (-0.286, 31.823), (-0.246, 33.04), (-0.206, 31.061), (-0.166, 32.814),\n",
    "        (-0.126, 29.264), (-0.085, 33.214), (-0.045, 33.981), (-0.005, 36.273), (0.035, 33.327), (0.075, 34.618), (0.116, 35.065), (0.156, 31.0), (0.196, 36.441),\n",
    "        (0.236, 38.878), (0.276, 36.338), (0.317, 37.844), (0.357, 32.963), (0.397, 35.057), (0.437, 35.193), (0.477, 39.027), (0.518, 35.477), (0.558, 36.345),\n",
    "        (0.598, 36.056), (0.638, 39.056), (0.678, 40.193), (0.719, 36.724), (0.759, 39.845), (0.799, 43.666), (0.839, 41.484), (0.879, 39.019), (0.92, 37.805), (0.96,\n",
    "        45.267), (1.0, 47.807)]\n"
   ]
  },
  {
   "cell_type": "code",
   "execution_count": 16,
   "metadata": {},
   "outputs": [
    {
     "name": "stdout",
     "output_type": "stream",
     "text": [
      "[08-17 21:37:36][INFO] Se ajustarán 2 parámetros.\n",
      "[08-17 21:37:36][INFO] \n",
      "[[-6.00000000e+02  2.00000000e+02  4.07553400e+03]\n",
      " [-4.54747351e-13  3.59138900e+02  1.05814827e+04]]\n",
      "Parámetros ajustados (a1, a0): [ 3.02860418 29.46348253]\n"
     ]
    }
   ],
   "source": [
    "from src.min_cuadrados import ajustar_min_cuadrados\n",
    "\n",
    "# Separar xs y ys\n",
    "xs = [p[0] for p in datos]\n",
    "ys = [p[1] for p in datos]\n",
    "\n",
    "# Ajuste de mínimos cuadrados\n",
    "sol = ajustar_min_cuadrados(xs, ys, [der_parcial_1, der_parcial_0])\n",
    "print(\"Parámetros ajustados (a1, a0):\", sol)\n"
   ]
  },
  {
   "cell_type": "code",
   "execution_count": 17,
   "metadata": {},
   "outputs": [],
   "source": [
    "def der_parcial_polinomial(xs, ys, grado):\n",
    "    \"\"\"Genera las ecuaciones normales para un ajuste polinomial de grado `grado`.\"\"\"\n",
    "    n = len(xs)\n",
    "    m = grado + 1\n",
    "    A = [[0.0 for _ in range(m)] for _ in range(m)]\n",
    "    b = [0.0 for _ in range(m)]\n",
    "    \n",
    "    for i in range(m):\n",
    "        for j in range(m):\n",
    "            A[i][j] = sum(x**(i + j) for x in xs)  # Suma de x^(i+j)\n",
    "        b[i] = sum(y * (x**i) for x, y in zip(xs, ys))  # Suma de y * x^i\n",
    "    \n",
    "    return A, b"
   ]
  },
  {
   "cell_type": "code",
   "execution_count": 18,
   "metadata": {},
   "outputs": [],
   "source": [
    "import numpy as np\n",
    "\n",
    "def ajustar_polinomio(xs, ys, grado=4):\n",
    "    \"\"\"Ajusta un polinomio de grado `grado` usando mínimos cuadrados.\"\"\"\n",
    "    A, b = der_parcial_polinomial(xs, ys, grado)\n",
    "    coeficientes = np.linalg.solve(A, b)  # Resuelve el sistema lineal\n",
    "    return coeficientes"
   ]
  },
  {
   "cell_type": "code",
   "execution_count": 19,
   "metadata": {},
   "outputs": [],
   "source": [
    "def calcular_errores_relativos(xs, ys, coeficientes):\n",
    "    \"\"\"Calcula los errores relativos para cada punto.\"\"\"\n",
    "    errores = []\n",
    "    y_pred = np.polyval(coeficientes[::-1], xs)  # Evalúa el polinomio\n",
    "    \n",
    "    for y_real, y_est in zip(ys, y_pred):\n",
    "        if y_real == 0:\n",
    "            errores.append(0)  # Evita división por cero\n",
    "        else:\n",
    "            errores.append(abs(y_real - y_est) / abs(y_real))\n",
    "    \n",
    "    return errores"
   ]
  },
  {
   "cell_type": "code",
   "execution_count": 26,
   "metadata": {},
   "outputs": [
    {
     "name": "stdout",
     "output_type": "stream",
     "text": [
      "Polinomio ajustado: y = 33.104x^4 + 8.886x^3 + 0.870x^2 + -0.034x + -0.003\n",
      "Error relativo promedio: 0.0531\n",
      "Máximo error relativo: 0.2429\n",
      "Punto con máximo error: (x=-2.095, y=14.939)\n"
     ]
    }
   ],
   "source": [
    "import numpy as np\n",
    "\n",
    "# Datos\n",
    "xs = [p[0] for p in datos]\n",
    "ys = [p[1] for p in datos]\n",
    "\n",
    "# 1. Ajustar polinomio de grado 4\n",
    "coeficientes = np.polyfit(xs, ys, deg=4)[::-1]  # Invertir para orden descendente\n",
    "print(f\"Polinomio ajustado: y = {coeficientes[0]:.3f}x^4 + {coeficientes[1]:.3f}x^3 + {coeficientes[2]:.3f}x^2 + {coeficientes[3]:.3f}x + {coeficientes[4]:.3f}\")\n",
    "\n",
    "# 2. Calcular errores relativos\n",
    "y_pred = np.polyval(coeficientes[::-1], xs)  # Evaluar polinomio\n",
    "errores = np.abs((np.array(ys) - y_pred) / np.array(ys))\n",
    "e_rel_promedio = np.mean(errores)\n",
    "e_max = np.max(errores)\n",
    "indice_max_error = np.argmax(errores)\n",
    "\n",
    "print(f\"Error relativo promedio: {e_rel_promedio:.4f}\")\n",
    "print(f\"Máximo error relativo: {e_max:.4f}\")\n",
    "print(f\"Punto con máximo error: (x={xs[indice_max_error]}, y={ys[indice_max_error]})\")"
   ]
  },
  {
   "cell_type": "code",
   "execution_count": 27,
   "metadata": {},
   "outputs": [
    {
     "name": "stdout",
     "output_type": "stream",
     "text": [
      "Polinomio ajustado: y = -0.003x⁴ + -0.034x³ + 0.870x² + 8.886x + 33.104\n"
     ]
    }
   ],
   "source": [
    "import numpy as np\n",
    "\n",
    "# Datos\n",
    "xs = np.array([p[0] for p in datos])\n",
    "ys = np.array([p[1] for p in datos])\n",
    "\n",
    "# Ajuste polinomial (equivalente a numpy.polyfit)\n",
    "X = np.vander(xs, 5, increasing=False)  # x⁴, x³, x², x, 1\n",
    "coeficientes = np.linalg.inv(X.T @ X) @ X.T @ ys\n",
    "\n",
    "print(f\"Polinomio ajustado: y = {coeficientes[0]:.3f}x⁴ + {coeficientes[1]:.3f}x³ + {coeficientes[2]:.3f}x² + {coeficientes[3]:.3f}x + {coeficientes[4]:.3f}\")"
   ]
  },
  {
   "cell_type": "code",
   "execution_count": 25,
   "metadata": {},
   "outputs": [
    {
     "data": {
      "image/png": "[encoded data removed]",
      "text/plain": [
       "<Figure size 640x480 with 1 Axes>"
      ]
     },
     "metadata": {},
     "output_type": "display_data"
    }
   ],
   "source": [
    "import matplotlib.pyplot as plt\n",
    "\n",
    "# Gráfico de datos y polinomio ajustado\n",
    "plt.scatter(xs, ys, label=\"Datos\", color=\"blue\")\n",
    "x_grid = np.linspace(min(xs), max(xs), 100)\n",
    "y_grid = np.polyval(coeficientes_numpy[::-1], x_grid)\n",
    "plt.plot(x_grid, y_grid, label=\"Ajuste polinomial (grado 4)\", color=\"red\")\n",
    "\n",
    "# Resaltar punto con máximo error\n",
    "plt.scatter(xs[indice_max_error], ys[indice_max_error], color=\"black\", s=100, \n",
    "            label=f\"Máximo error (x={xs[indice_max_error]:.3f}, y={ys[indice_max_error]:.3f})\")\n",
    "\n",
    "plt.xlabel(\"x\")\n",
    "plt.ylabel(\"y\")\n",
    "plt.legend()\n",
    "plt.show()"
   ]
  },
  {
   "cell_type": "code",
   "execution_count": null,
   "metadata": {},
   "outputs": [],
   "source": []
  }
 ],
 "metadata": {
  "kernelspec": {
   "display_name": "Python 3",
   "language": "python",
   "name": "python3"
  },
  "language_info": {
   "codemirror_mode": {
    "name": "ipython",
    "version": 3
   },
   "file_extension": ".py",
   "mimetype": "text/x-python",
   "name": "python",
   "nbconvert_exporter": "python",
   "pygments_lexer": "ipython3",
   "version": "3.13.3"
  }
 },
 "nbformat": 4,
 "nbformat_minor": 2
}
